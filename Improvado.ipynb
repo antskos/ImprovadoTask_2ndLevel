{
 "cells": [
  {
   "cell_type": "markdown",
   "id": "06e124a2",
   "metadata": {},
   "source": [
    "# Data engineering homework"
   ]
  },
  {
   "cell_type": "markdown",
   "id": "fae7dd23",
   "metadata": {},
   "source": [
    "##  1. Dimensions vs metrics.\n"
   ]
  },
  {
   "cell_type": "markdown",
   "id": "f962e66f",
   "metadata": {},
   "source": [
    "Have a look at all fields in all reports that we deliver to clients https://improvado.io/docs-section-topic/data-dictionary-available-report-types"
   ]
  },
  {
   "cell_type": "markdown",
   "id": "496b421a",
   "metadata": {},
   "source": [
    "There are two kind of fields:\n",
    "— dimensions (country, banner_id, campaign_name ..)\n",
    "— metrics: (clicks, spends, impressions …)\n",
    "\n",
    "We need an estimation for a question: what part of the fields are metrics? It is not always easy to say exactly if this field metric is neither dimension. Ok to have answe liker: from 25% to 35% (round answer to integer)."
   ]
  },
  {
   "cell_type": "code",
   "execution_count": 288,
   "id": "9c663fac",
   "metadata": {},
   "outputs": [],
   "source": [
    "import numpy as np\n",
    "import pandas as pd"
   ]
  },
  {
   "cell_type": "code",
   "execution_count": 289,
   "id": "a265e8b5",
   "metadata": {},
   "outputs": [],
   "source": [
    "import re"
   ]
  },
  {
   "cell_type": "code",
   "execution_count": 290,
   "id": "c4e47a16",
   "metadata": {},
   "outputs": [],
   "source": [
    "df = pd.read_csv('data/Data_Dictionary_for_CSV_2022_09_29.csv') #input data"
   ]
  },
  {
   "cell_type": "code",
   "execution_count": 291,
   "id": "25ea39ab",
   "metadata": {},
   "outputs": [
    {
     "data": {
      "text/plain": [
       "(30655, 5)"
      ]
     },
     "execution_count": 291,
     "metadata": {},
     "output_type": "execute_result"
    }
   ],
   "source": [
    "df.shape"
   ]
  },
  {
   "cell_type": "markdown",
   "id": "6841bf89",
   "metadata": {},
   "source": [
    "### Search for duplicates."
   ]
  },
  {
   "cell_type": "markdown",
   "id": "3c0a3d48",
   "metadata": {},
   "source": [
    "Complete duplicates of the string"
   ]
  },
  {
   "cell_type": "code",
   "execution_count": 292,
   "id": "bdd58503",
   "metadata": {},
   "outputs": [
    {
     "name": "stdout",
     "output_type": "stream",
     "text": [
      "Duplicates: 3\n"
     ]
    }
   ],
   "source": [
    "df_duplicates = df[df.duplicated()]\n",
    "print(f'Duplicates: {df_duplicates.shape[0]}')"
   ]
  },
  {
   "cell_type": "markdown",
   "id": "b35929fc",
   "metadata": {},
   "source": [
    "Removing duplicates"
   ]
  },
  {
   "cell_type": "code",
   "execution_count": 293,
   "id": "af3fb1be",
   "metadata": {},
   "outputs": [],
   "source": [
    "df = df.drop_duplicates()\n",
    "df_copy = df.copy()"
   ]
  },
  {
   "cell_type": "code",
   "execution_count": 294,
   "id": "0c6c0478",
   "metadata": {},
   "outputs": [
    {
     "data": {
      "text/plain": [
       "30652"
      ]
     },
     "execution_count": 294,
     "metadata": {},
     "output_type": "execute_result"
    }
   ],
   "source": [
    "df.shape[0]"
   ]
  },
  {
   "cell_type": "code",
   "execution_count": 295,
   "id": "037e74b1",
   "metadata": {},
   "outputs": [
    {
     "data": {
      "text/plain": [
       "data_source_title    object\n",
       "report_type_title    object\n",
       "field_title          object\n",
       "sql_field_name       object\n",
       "api_field_name       object\n",
       "dtype: object"
      ]
     },
     "execution_count": 295,
     "metadata": {},
     "output_type": "execute_result"
    }
   ],
   "source": [
    "df.dtypes"
   ]
  },
  {
   "cell_type": "markdown",
   "id": "1e2026fd",
   "metadata": {},
   "source": [
    "Checking for zeros"
   ]
  },
  {
   "cell_type": "code",
   "execution_count": 296,
   "id": "6031436e",
   "metadata": {},
   "outputs": [
    {
     "name": "stdout",
     "output_type": "stream",
     "text": [
      "<class 'pandas.core.frame.DataFrame'>\n",
      "Int64Index: 30652 entries, 0 to 30654\n",
      "Data columns (total 5 columns):\n",
      " #   Column             Non-Null Count  Dtype \n",
      "---  ------             --------------  ----- \n",
      " 0   data_source_title  30652 non-null  object\n",
      " 1   report_type_title  30652 non-null  object\n",
      " 2   field_title        30652 non-null  object\n",
      " 3   sql_field_name     30652 non-null  object\n",
      " 4   api_field_name     30652 non-null  object\n",
      "dtypes: object(5)\n",
      "memory usage: 1.4+ MB\n"
     ]
    }
   ],
   "source": [
    "df.info()"
   ]
  },
  {
   "cell_type": "code",
   "execution_count": 297,
   "id": "605c0579",
   "metadata": {},
   "outputs": [
    {
     "name": "stdout",
     "output_type": "stream",
     "text": [
      "data_source_title    string\n",
      "report_type_title    string\n",
      "field_title          string\n",
      "sql_field_name       string\n",
      "api_field_name       string\n",
      "dtype: object\n"
     ]
    }
   ],
   "source": [
    "# converting all columns to string type\n",
    "df = df.astype('string')\n",
    "print(df.dtypes)"
   ]
  },
  {
   "cell_type": "markdown",
   "id": "450bcad5",
   "metadata": {},
   "source": [
    "A brief overview of the information from the table:"
   ]
  },
  {
   "cell_type": "code",
   "execution_count": 298,
   "id": "b9c3b4d5",
   "metadata": {},
   "outputs": [
    {
     "data": {
      "text/html": [
       "<div>\n",
       "<style scoped>\n",
       "    .dataframe tbody tr th:only-of-type {\n",
       "        vertical-align: middle;\n",
       "    }\n",
       "\n",
       "    .dataframe tbody tr th {\n",
       "        vertical-align: top;\n",
       "    }\n",
       "\n",
       "    .dataframe thead th {\n",
       "        text-align: right;\n",
       "    }\n",
       "</style>\n",
       "<table border=\"1\" class=\"dataframe\">\n",
       "  <thead>\n",
       "    <tr style=\"text-align: right;\">\n",
       "      <th></th>\n",
       "      <th>data_source_title</th>\n",
       "      <th>report_type_title</th>\n",
       "      <th>field_title</th>\n",
       "      <th>sql_field_name</th>\n",
       "      <th>api_field_name</th>\n",
       "    </tr>\n",
       "  </thead>\n",
       "  <tbody>\n",
       "    <tr>\n",
       "      <th>0</th>\n",
       "      <td>ACME</td>\n",
       "      <td>Transactions</td>\n",
       "      <td>Event Id</td>\n",
       "      <td>event_id</td>\n",
       "      <td>EventId</td>\n",
       "    </tr>\n",
       "    <tr>\n",
       "      <th>1</th>\n",
       "      <td>ACME</td>\n",
       "      <td>Transactions</td>\n",
       "      <td>Discount Code</td>\n",
       "      <td>discount_code</td>\n",
       "      <td>DiscountCode</td>\n",
       "    </tr>\n",
       "    <tr>\n",
       "      <th>2</th>\n",
       "      <td>ACME</td>\n",
       "      <td>Transactions</td>\n",
       "      <td>Customer Id</td>\n",
       "      <td>customer_id</td>\n",
       "      <td>CustomerId</td>\n",
       "    </tr>\n",
       "    <tr>\n",
       "      <th>3</th>\n",
       "      <td>ACME</td>\n",
       "      <td>Transactions</td>\n",
       "      <td>Transaction Amount</td>\n",
       "      <td>transaction_amount</td>\n",
       "      <td>TransactionAmount</td>\n",
       "    </tr>\n",
       "    <tr>\n",
       "      <th>4</th>\n",
       "      <td>ACME</td>\n",
       "      <td>Transactions</td>\n",
       "      <td>Quantity</td>\n",
       "      <td>quantity</td>\n",
       "      <td>Quantity</td>\n",
       "    </tr>\n",
       "  </tbody>\n",
       "</table>\n",
       "</div>"
      ],
      "text/plain": [
       "  data_source_title report_type_title         field_title      sql_field_name  \\\n",
       "0              ACME      Transactions            Event Id            event_id   \n",
       "1              ACME      Transactions       Discount Code       discount_code   \n",
       "2              ACME      Transactions         Customer Id         customer_id   \n",
       "3              ACME      Transactions  Transaction Amount  transaction_amount   \n",
       "4              ACME      Transactions            Quantity            quantity   \n",
       "\n",
       "      api_field_name  \n",
       "0            EventId  \n",
       "1       DiscountCode  \n",
       "2         CustomerId  \n",
       "3  TransactionAmount  \n",
       "4           Quantity  "
      ]
     },
     "execution_count": 298,
     "metadata": {},
     "output_type": "execute_result"
    }
   ],
   "source": [
    "df.head()"
   ]
  },
  {
   "cell_type": "code",
   "execution_count": 299,
   "id": "6659db11",
   "metadata": {},
   "outputs": [
    {
     "data": {
      "text/html": [
       "<div>\n",
       "<style scoped>\n",
       "    .dataframe tbody tr th:only-of-type {\n",
       "        vertical-align: middle;\n",
       "    }\n",
       "\n",
       "    .dataframe tbody tr th {\n",
       "        vertical-align: top;\n",
       "    }\n",
       "\n",
       "    .dataframe thead th {\n",
       "        text-align: right;\n",
       "    }\n",
       "</style>\n",
       "<table border=\"1\" class=\"dataframe\">\n",
       "  <thead>\n",
       "    <tr style=\"text-align: right;\">\n",
       "      <th></th>\n",
       "      <th>data_source_title</th>\n",
       "      <th>report_type_title</th>\n",
       "      <th>field_title</th>\n",
       "      <th>sql_field_name</th>\n",
       "      <th>api_field_name</th>\n",
       "    </tr>\n",
       "  </thead>\n",
       "  <tbody>\n",
       "    <tr>\n",
       "      <th>count</th>\n",
       "      <td>30652</td>\n",
       "      <td>30652</td>\n",
       "      <td>30652</td>\n",
       "      <td>30652</td>\n",
       "      <td>30652</td>\n",
       "    </tr>\n",
       "    <tr>\n",
       "      <th>unique</th>\n",
       "      <td>174</td>\n",
       "      <td>938</td>\n",
       "      <td>9158</td>\n",
       "      <td>8620</td>\n",
       "      <td>9256</td>\n",
       "    </tr>\n",
       "    <tr>\n",
       "      <th>top</th>\n",
       "      <td>Facebook</td>\n",
       "      <td>All Fields</td>\n",
       "      <td>Clicks</td>\n",
       "      <td>campaign_id</td>\n",
       "      <td>???</td>\n",
       "    </tr>\n",
       "    <tr>\n",
       "      <th>freq</th>\n",
       "      <td>5171</td>\n",
       "      <td>1084</td>\n",
       "      <td>418</td>\n",
       "      <td>594</td>\n",
       "      <td>809</td>\n",
       "    </tr>\n",
       "  </tbody>\n",
       "</table>\n",
       "</div>"
      ],
      "text/plain": [
       "       data_source_title report_type_title field_title sql_field_name  \\\n",
       "count              30652             30652       30652          30652   \n",
       "unique               174               938        9158           8620   \n",
       "top             Facebook        All Fields      Clicks    campaign_id   \n",
       "freq                5171              1084         418            594   \n",
       "\n",
       "       api_field_name  \n",
       "count           30652  \n",
       "unique           9256  \n",
       "top               ???  \n",
       "freq              809  "
      ]
     },
     "execution_count": 299,
     "metadata": {},
     "output_type": "execute_result"
    }
   ],
   "source": [
    "df.describe(include = 'all')"
   ]
  },
  {
   "cell_type": "code",
   "execution_count": 300,
   "id": "3bc17910",
   "metadata": {},
   "outputs": [
    {
     "data": {
      "text/plain": [
       "data_source_title  report_type_title  field_title             sql_field_name          api_field_name        \n",
       "ACME               Transactions       Add On                  add_on                  AddOn                     1\n",
       "Iterable           Campaigns          Campaign ID             campaign_id             id                        1\n",
       "                                      Total Emails Delivered  total_emails_delivered  Total Emails Delivered    1\n",
       "                                      Total Emails Clicked    total_emails_clicked    Total Emails Clicked      1\n",
       "                                      Total Emails Bounced    total_emails_bounced    Total Emails Bounced      1\n",
       "                                      Total Email Sends       total_email_sends       Total Email Sends         1\n",
       "                                      Total Email Send Skips  total_email_send_skips  Total Email Send Skips    1\n",
       "                                      Total Email Opens       total_email_opens       Total Email Opens         1\n",
       "                                      Total Email Holdout     total_email_holdout     Total Email Holdout       1\n",
       "                                      Total Complaints        total_complaints        Total Complaints          1\n",
       "dtype: int64"
      ]
     },
     "execution_count": 300,
     "metadata": {},
     "output_type": "execute_result"
    }
   ],
   "source": [
    "df.value_counts().nlargest(10)"
   ]
  },
  {
   "cell_type": "markdown",
   "id": "52647e6c",
   "metadata": {},
   "source": [
    "### Creating a new feature:"
   ]
  },
  {
   "cell_type": "code",
   "execution_count": 301,
   "id": "78630b97",
   "metadata": {},
   "outputs": [
    {
     "data": {
      "text/html": [
       "<div>\n",
       "<style scoped>\n",
       "    .dataframe tbody tr th:only-of-type {\n",
       "        vertical-align: middle;\n",
       "    }\n",
       "\n",
       "    .dataframe tbody tr th {\n",
       "        vertical-align: top;\n",
       "    }\n",
       "\n",
       "    .dataframe thead th {\n",
       "        text-align: right;\n",
       "    }\n",
       "</style>\n",
       "<table border=\"1\" class=\"dataframe\">\n",
       "  <thead>\n",
       "    <tr style=\"text-align: right;\">\n",
       "      <th></th>\n",
       "      <th>data_source_title</th>\n",
       "      <th>report_type_title</th>\n",
       "      <th>field_title</th>\n",
       "      <th>sql_field_name</th>\n",
       "      <th>api_field_name</th>\n",
       "      <th>common_title</th>\n",
       "    </tr>\n",
       "  </thead>\n",
       "  <tbody>\n",
       "    <tr>\n",
       "      <th>0</th>\n",
       "      <td>ACME</td>\n",
       "      <td>Transactions</td>\n",
       "      <td>Event Id</td>\n",
       "      <td>event_id</td>\n",
       "      <td>EventId</td>\n",
       "      <td>event id event_id eventid</td>\n",
       "    </tr>\n",
       "    <tr>\n",
       "      <th>1</th>\n",
       "      <td>ACME</td>\n",
       "      <td>Transactions</td>\n",
       "      <td>Discount Code</td>\n",
       "      <td>discount_code</td>\n",
       "      <td>DiscountCode</td>\n",
       "      <td>discount code discount_code discountcode</td>\n",
       "    </tr>\n",
       "    <tr>\n",
       "      <th>2</th>\n",
       "      <td>ACME</td>\n",
       "      <td>Transactions</td>\n",
       "      <td>Customer Id</td>\n",
       "      <td>customer_id</td>\n",
       "      <td>CustomerId</td>\n",
       "      <td>customer id customer_id customerid</td>\n",
       "    </tr>\n",
       "    <tr>\n",
       "      <th>3</th>\n",
       "      <td>ACME</td>\n",
       "      <td>Transactions</td>\n",
       "      <td>Transaction Amount</td>\n",
       "      <td>transaction_amount</td>\n",
       "      <td>TransactionAmount</td>\n",
       "      <td>transaction amount transaction_amount transact...</td>\n",
       "    </tr>\n",
       "    <tr>\n",
       "      <th>4</th>\n",
       "      <td>ACME</td>\n",
       "      <td>Transactions</td>\n",
       "      <td>Quantity</td>\n",
       "      <td>quantity</td>\n",
       "      <td>Quantity</td>\n",
       "      <td>quantity quantity quantity</td>\n",
       "    </tr>\n",
       "  </tbody>\n",
       "</table>\n",
       "</div>"
      ],
      "text/plain": [
       "  data_source_title report_type_title         field_title      sql_field_name  \\\n",
       "0              ACME      Transactions            Event Id            event_id   \n",
       "1              ACME      Transactions       Discount Code       discount_code   \n",
       "2              ACME      Transactions         Customer Id         customer_id   \n",
       "3              ACME      Transactions  Transaction Amount  transaction_amount   \n",
       "4              ACME      Transactions            Quantity            quantity   \n",
       "\n",
       "      api_field_name                                       common_title  \n",
       "0            EventId                          event id event_id eventid  \n",
       "1       DiscountCode           discount code discount_code discountcode  \n",
       "2         CustomerId                 customer id customer_id customerid  \n",
       "3  TransactionAmount  transaction amount transaction_amount transact...  \n",
       "4           Quantity                         quantity quantity quantity  "
      ]
     },
     "execution_count": 301,
     "metadata": {},
     "output_type": "execute_result"
    }
   ],
   "source": [
    "df['common_title'] = df['field_title'].str.lower() + ' '\\\n",
    "                   + df['sql_field_name'].str.lower() + ' '\\\n",
    "                   + df['api_field_name'].str.lower()\n",
    "df['common_title'] = df['common_title'].astype('string')  # common titles info\n",
    "df.head()"
   ]
  },
  {
   "cell_type": "markdown",
   "id": "1c23929d",
   "metadata": {},
   "source": [
    "The function of removing duplicate words in a string:"
   ]
  },
  {
   "cell_type": "code",
   "execution_count": 302,
   "id": "434b268c",
   "metadata": {},
   "outputs": [],
   "source": [
    "def get_unique_words(str1):\n",
    "    words = str1.split()\n",
    "    return \" \".join(sorted(set(words), key=words.index))"
   ]
  },
  {
   "cell_type": "code",
   "execution_count": 303,
   "id": "35a8f51c",
   "metadata": {},
   "outputs": [
    {
     "data": {
      "text/html": [
       "<div>\n",
       "<style scoped>\n",
       "    .dataframe tbody tr th:only-of-type {\n",
       "        vertical-align: middle;\n",
       "    }\n",
       "\n",
       "    .dataframe tbody tr th {\n",
       "        vertical-align: top;\n",
       "    }\n",
       "\n",
       "    .dataframe thead th {\n",
       "        text-align: right;\n",
       "    }\n",
       "</style>\n",
       "<table border=\"1\" class=\"dataframe\">\n",
       "  <thead>\n",
       "    <tr style=\"text-align: right;\">\n",
       "      <th></th>\n",
       "      <th>data_source_title</th>\n",
       "      <th>report_type_title</th>\n",
       "      <th>field_title</th>\n",
       "      <th>sql_field_name</th>\n",
       "      <th>api_field_name</th>\n",
       "      <th>common_title</th>\n",
       "    </tr>\n",
       "  </thead>\n",
       "  <tbody>\n",
       "    <tr>\n",
       "      <th>0</th>\n",
       "      <td>ACME</td>\n",
       "      <td>Transactions</td>\n",
       "      <td>Event Id</td>\n",
       "      <td>event_id</td>\n",
       "      <td>EventId</td>\n",
       "      <td>event id event_id eventid</td>\n",
       "    </tr>\n",
       "    <tr>\n",
       "      <th>1</th>\n",
       "      <td>ACME</td>\n",
       "      <td>Transactions</td>\n",
       "      <td>Discount Code</td>\n",
       "      <td>discount_code</td>\n",
       "      <td>DiscountCode</td>\n",
       "      <td>discount code discount_code discountcode</td>\n",
       "    </tr>\n",
       "    <tr>\n",
       "      <th>2</th>\n",
       "      <td>ACME</td>\n",
       "      <td>Transactions</td>\n",
       "      <td>Customer Id</td>\n",
       "      <td>customer_id</td>\n",
       "      <td>CustomerId</td>\n",
       "      <td>customer id customer_id customerid</td>\n",
       "    </tr>\n",
       "    <tr>\n",
       "      <th>3</th>\n",
       "      <td>ACME</td>\n",
       "      <td>Transactions</td>\n",
       "      <td>Transaction Amount</td>\n",
       "      <td>transaction_amount</td>\n",
       "      <td>TransactionAmount</td>\n",
       "      <td>transaction amount transaction_amount transact...</td>\n",
       "    </tr>\n",
       "    <tr>\n",
       "      <th>4</th>\n",
       "      <td>ACME</td>\n",
       "      <td>Transactions</td>\n",
       "      <td>Quantity</td>\n",
       "      <td>quantity</td>\n",
       "      <td>Quantity</td>\n",
       "      <td>quantity</td>\n",
       "    </tr>\n",
       "  </tbody>\n",
       "</table>\n",
       "</div>"
      ],
      "text/plain": [
       "  data_source_title report_type_title         field_title      sql_field_name  \\\n",
       "0              ACME      Transactions            Event Id            event_id   \n",
       "1              ACME      Transactions       Discount Code       discount_code   \n",
       "2              ACME      Transactions         Customer Id         customer_id   \n",
       "3              ACME      Transactions  Transaction Amount  transaction_amount   \n",
       "4              ACME      Transactions            Quantity            quantity   \n",
       "\n",
       "      api_field_name                                       common_title  \n",
       "0            EventId                          event id event_id eventid  \n",
       "1       DiscountCode           discount code discount_code discountcode  \n",
       "2         CustomerId                 customer id customer_id customerid  \n",
       "3  TransactionAmount  transaction amount transaction_amount transact...  \n",
       "4           Quantity                                           quantity  "
      ]
     },
     "execution_count": 303,
     "metadata": {},
     "output_type": "execute_result"
    }
   ],
   "source": [
    "df['common_title'] = df['common_title'].map(get_unique_words)\n",
    "df.head()"
   ]
  },
  {
   "cell_type": "markdown",
   "id": "7df1e05c",
   "metadata": {},
   "source": [
    "### Search for duplicates in the column: 'common_title'."
   ]
  },
  {
   "cell_type": "code",
   "execution_count": 304,
   "id": "56108f74",
   "metadata": {},
   "outputs": [
    {
     "name": "stdout",
     "output_type": "stream",
     "text": [
      "Duplicates in title: 19541\n"
     ]
    }
   ],
   "source": [
    "title_duplicates = df[df.duplicated(subset=['common_title'])]\n",
    "print(f'Duplicates in title: {title_duplicates.shape[0]}')"
   ]
  },
  {
   "cell_type": "markdown",
   "id": "1b405ca9",
   "metadata": {},
   "source": [
    "Removing duplicates in the column."
   ]
  },
  {
   "cell_type": "code",
   "execution_count": 305,
   "id": "ffdf1f67",
   "metadata": {},
   "outputs": [
    {
     "data": {
      "text/plain": [
       "(11111, 6)"
      ]
     },
     "execution_count": 305,
     "metadata": {},
     "output_type": "execute_result"
    }
   ],
   "source": [
    "df_dedupped = df.drop_duplicates(subset=['common_title'], ignore_index=True)\n",
    "df_dedupped.shape"
   ]
  },
  {
   "cell_type": "code",
   "execution_count": 306,
   "id": "80567f33",
   "metadata": {},
   "outputs": [
    {
     "data": {
      "text/plain": [
       "11111"
      ]
     },
     "metadata": {},
     "output_type": "display_data"
    }
   ],
   "source": [
    "display(df_dedupped['common_title'].nunique())"
   ]
  },
  {
   "cell_type": "markdown",
   "id": "c6da8d5d",
   "metadata": {},
   "source": [
    "### Creating masks from words and parts of words, selected manually by meaning."
   ]
  },
  {
   "cell_type": "markdown",
   "id": "e5cc2db3",
   "metadata": {},
   "source": [
    "Maybe an alternative way to parse information from: \n",
    "<a href=\"https://www.googleapis.com/analytics/v3/metadata/ga/columns\">to google api columns</a>\n",
    "or other sources.\n",
    "\n",
    "```python\n",
    "import json\n",
    "import urllib.request\n",
    "\n",
    "with urllib.request.urlopen(\"https://www.googleapis.com/analytics/v3/metadata/ga/columns\") as url:\n",
    "    data = json.load(url)\n",
    "    # print(data['items'][0])\n",
    "    dict_val0 = data['items'][0]\n",
    "    print(dict_val0['attributes']['type'])\n",
    "```"
   ]
  },
  {
   "cell_type": "markdown",
   "id": "96fd27fa",
   "metadata": {},
   "source": [
    "Sets of words for masks:"
   ]
  },
  {
   "cell_type": "code",
   "execution_count": 307,
   "id": "6d1a97ff",
   "metadata": {},
   "outputs": [],
   "source": [
    "must_contain_exact = [\n",
    "    'id', 'name', 'title', 'code', 'campaign', 'type', 'status', 'date',\n",
    "    'method', 'time', 'city', 'region', 'country', 'on', 'channel', 'type', 'form', 'post',\n",
    "    'click', 'color', 'map', 'dimension', 'link', 'cookies', 'signature', 'login', 'auth', \n",
    "    'blogs', 'report', 'is', 'ticket', 'chat', 'media', 'email', 'phone', 'address', 'url',\n",
    "    'source', 'by', 'agent', 'shared', 'alias', 'subject', 'recipient', 'sender', 'language',\n",
    "    'category', 'moderator', 'version', 'start', 'satrted', 'complete' 'completed', 'has',\n",
    "    'browser', 'os', 'action', 'data', 'state', 'tag', 'domain', 'last', 'first',' size',\n",
    "    'description', 'image', 'content', 'definition', 'private', 'public', 'weight', 'banner',\n",
    "    'impressions', 'sent', 'text', 'new', 'completions',\n",
    "]\n",
    "must_contain_subs = [\n",
    "    'id', 'name', 'title', 'code', 'campaign', 'type', 'status', 'date',\n",
    "    'method', 'time', 'hour', 'day', 'week', 'month', 'city',\n",
    "    'region', 'countr', 'channel', 'type', 'form', 'post',\n",
    "    'click', 'color', 'map', 'dimension', 'link', 'cookie',\n",
    "    'group', 'signature', 'login', 'auth', '_at', 'by_', 'blogs',\n",
    "    'report', 'email', 'phone', 'address', 'url', 'source', 'category',\n",
    "    'version', 'os', 'action', 'data', 'ed', 'tag', 'details', 'completions',\n",
    "    'size', 'weight',\n",
    "]\n",
    "\n",
    "not_contain = [\n",
    "    'value', 'total', 'amount', 'quantity', 'balance', 'clicks', 'price', \n",
    "    'views', 'occurrences', 'average', 'rate', 'cost', 'metrics', \n",
    "    'score', 'rating', 'revenue', 'accuracy', 'number', '%', 'frequency',\n",
    "    'income', 'statistics', 'percentage',\n",
    "]\n",
    "not_contain_subs = [\n",
    "    'value', 'total', 'amount', 'quantity', 'balance', 'clicks', 'price', \n",
    "     'occurrences', 'average', 'rate', 'cost', 'metrics', \n",
    "     'score', 'rating', 'avg', 'mean', 'count', 'revenue',\n",
    "     'accuracy', 'number', 'freq', 'statistics'\n",
    "]"
   ]
  },
  {
   "cell_type": "markdown",
   "id": "4376744c",
   "metadata": {},
   "source": [
    "Applying these masks leaves lines related to dimensions:"
   ]
  },
  {
   "cell_type": "code",
   "execution_count": 308,
   "id": "f4d8f424",
   "metadata": {},
   "outputs": [
    {
     "data": {
      "text/plain": [
       "7526"
      ]
     },
     "metadata": {},
     "output_type": "display_data"
    }
   ],
   "source": [
    "p = r'\\b(?:{})\\b'.format('|'.join(map(re.escape, must_contain_exact)))\n",
    "pat_include = re.compile(p)\n",
    "\n",
    "p = r'\\b(?:{})\\b'.format('|'.join(map(re.escape, not_contain)))\n",
    "pat_not_include = re.compile(p)\n",
    "\n",
    "in_list_exact = [bool(pat_include.search(x)) for x in df_dedupped['common_title']]\n",
    "in_list_subs = df_dedupped['common_title'].str.contains('|'.join(must_contain_subs)).tolist()\n",
    "\n",
    "not_in_list = [bool(pat_not_include.search(x)) for x in df_dedupped['common_title']]\n",
    "not_in_subs = df_dedupped['common_title'].str.contains('|'.join(not_contain_subs)).tolist()\n",
    "\n",
    "\n",
    "mask = np.logical_or(in_list_exact, np.logical_and(in_list_subs, np.logical_not(np.logical_or(not_in_list, not_in_subs))))\n",
    "                   \n",
    "                   \n",
    "display(df_dedupped[mask].count()[0])"
   ]
  },
  {
   "cell_type": "markdown",
   "id": "e0148d13",
   "metadata": {},
   "source": [
    "**To check the result:**"
   ]
  },
  {
   "cell_type": "code",
   "execution_count": 309,
   "id": "b873dae4",
   "metadata": {
    "scrolled": false
   },
   "outputs": [
    {
     "data": {
      "text/plain": [
       "10894                            impression ad_impressions\n",
       "10897      youtube ad revenue estimated_youtube_ad_revenue\n",
       "10898    partner revenue reserved estimated_partner_ad_...\n",
       "10899    partner revenue auction estimated_partner_ad_a...\n",
       "10900      partner ad revenue estimated_partner_ad_revenue\n",
       "10901            partner revenue estimated_partner_revenue\n",
       "10911                               like snippet.likecount\n",
       "10912                    reply reply_count totalreplycount\n",
       "10914     viewer rating viewer_rating snippet.viewerrating\n",
       "10923                           views statistics.viewcount\n",
       "10924    videos published videos_published statistics.v...\n",
       "10925               subscribers statistics.subscribercount\n",
       "10926                     comments statistics.commentcount\n",
       "10930    average view percentage average_view_percentag...\n",
       "10931    average view duration average_view_duration av...\n",
       "10933    comment count statistics_comment_count statist...\n",
       "10934    favorite count statistics_favorite_count stati...\n",
       "10935    dislike count statistics_dislike_count statist...\n",
       "10936    like count statistics_like_count statistics.li...\n",
       "10954                                              account\n",
       "10958                          total seconds total_seconds\n",
       "10961                                            pageviews\n",
       "10963                      returning users returning_users\n",
       "10965                            unique users unique_users\n",
       "10972         avg. cost per pageview avg_cost_per_pageview\n",
       "10974               avg. cost per visit avg_cost_per_visit\n",
       "10975                              bounce rate bounce_rate\n",
       "10976              pageviews per visit pageviews_per_visit\n",
       "10978                     avg. native vcpm avg_native_vcpm\n",
       "10979    native impression distribution (not-viewable) ...\n",
       "10980    native impression distribution (not-measurable...\n",
       "10981    native impression distribution (viewable) nati...\n",
       "10984                                     avg. cpm avg_cpm\n",
       "10985                                     avg. cpc avg_cpc\n",
       "11001    frequency capping frequency_capping frequencyc...\n",
       "11002    frequency capping period frequency_capping_per...\n",
       "11011                                            autopilot\n",
       "11013    avg. cost per non-bounced visit avg_cost_per_n...\n",
       "11014             avg. cost per minute avg_cost_per_minute\n",
       "11015    avg. cost per unique user avg_cost_per_unique_...\n",
       "11021                                     avg. cpv avg_cpv\n",
       "11022                                   avg. cpcv avg_cpcv\n",
       "11055              satisfaction rating satisfaction_rating\n",
       "11057                          comment count comment_count\n",
       "11086                                              reopens\n",
       "11087                  assignee stations assignee_stations\n",
       "11097                          mqs mqs.media_quality_score\n",
       "11098         total mentions total_mentions mentions.count\n",
       "11100                                  social :calc.social\n",
       "11108                                            influence\n",
       "Name: common_title, dtype: object"
      ]
     },
     "execution_count": 309,
     "metadata": {},
     "output_type": "execute_result"
    }
   ],
   "source": [
    "# df_dedupped[np.logical_not(mask)]['common_title'].head(50)\n",
    "df_dedupped[np.logical_not(mask)]['common_title'].tail(50)\n",
    "# df_dedupped[np.logical_not(mask)]['common_title'].count()"
   ]
  },
  {
   "cell_type": "markdown",
   "id": "03247024",
   "metadata": {},
   "source": [
    "### Result:"
   ]
  },
  {
   "cell_type": "code",
   "execution_count": 310,
   "id": "7b272aad",
   "metadata": {},
   "outputs": [
    {
     "name": "stdout",
     "output_type": "stream",
     "text": [
      "32\n"
     ]
    }
   ],
   "source": [
    "dims = round(df_dedupped[mask].count()[0] / df_dedupped.shape[0] * 100.0)\n",
    "metrics = 100 - dims\n",
    "print(metrics)"
   ]
  },
  {
   "cell_type": "markdown",
   "id": "88dd783c",
   "metadata": {},
   "source": [
    "### In total, according to my calculations, metrics account for 32 percent of all characteristics."
   ]
  },
  {
   "cell_type": "markdown",
   "id": "426d141a",
   "metadata": {},
   "source": [
    "Made by Skosyrskiy Anton. I will be glad to review.  \n",
    "My email: ant.sckosyrsckij@ynadex.ru."
   ]
  }
 ],
 "metadata": {
  "kernelspec": {
   "display_name": "Python 3 (ipykernel)",
   "language": "python",
   "name": "python3"
  },
  "language_info": {
   "codemirror_mode": {
    "name": "ipython",
    "version": 3
   },
   "file_extension": ".py",
   "mimetype": "text/x-python",
   "name": "python",
   "nbconvert_exporter": "python",
   "pygments_lexer": "ipython3",
   "version": "3.10.4"
  }
 },
 "nbformat": 4,
 "nbformat_minor": 5
}
